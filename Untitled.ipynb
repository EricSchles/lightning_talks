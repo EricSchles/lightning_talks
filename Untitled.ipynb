{
 "cells": [
  {
   "cell_type": "code",
   "execution_count": 4,
   "metadata": {},
   "outputs": [],
   "source": [
    "import pandas as pd\n",
    "import pomegranate as pom\n",
    "import matplotlib.pyplot as plt\n",
    "import seaborn as sns\n",
    "import numpy as np\n",
    "\n",
    "gdp = pd.read_csv(\"GDP.csv\", error_bad_lines=False)"
   ]
  },
  {
   "cell_type": "code",
   "execution_count": 11,
   "metadata": {},
   "outputs": [
    {
     "name": "stdout",
     "output_type": "stream",
     "text": [
      "<class 'pandas.core.frame.DataFrame'>\n",
      "RangeIndex: 286 entries, 0 to 285\n",
      "Data columns (total 2 columns):\n",
      "DATE    286 non-null object\n",
      "GDP     286 non-null float64\n",
      "dtypes: float64(1), object(1)\n",
      "memory usage: 4.5+ KB\n"
     ]
    }
   ],
   "source": [
    "gdp.info()"
   ]
  },
  {
   "cell_type": "code",
   "execution_count": 7,
   "metadata": {},
   "outputs": [],
   "source": [
    "X = np.array([gdp[\"GDP\"].values, gdp[\"GDP\"].values])"
   ]
  },
  {
   "cell_type": "code",
   "execution_count": 10,
   "metadata": {},
   "outputs": [
    {
     "name": "stderr",
     "output_type": "stream",
     "text": [
      "/usr/local/lib/python3.6/dist-packages/ipykernel_launcher.py:1: RuntimeWarning: invalid value encountered in true_divide\n",
      "  \"\"\"Entry point for launching an IPython kernel.\n",
      "/usr/local/lib/python3.6/dist-packages/ipykernel_launcher.py:1: RuntimeWarning: invalid value encountered in less\n",
      "  \"\"\"Entry point for launching an IPython kernel.\n"
     ]
    },
    {
     "ename": "LinAlgError",
     "evalue": "1-th leading minor of the array is not positive definite",
     "output_type": "error",
     "traceback": [
      "\u001b[0;31m---------------------------------------------------------------------------\u001b[0m",
      "\u001b[0;31mLinAlgError\u001b[0m                               Traceback (most recent call last)",
      "\u001b[0;32mpomegranate/distributions.pyx\u001b[0m in \u001b[0;36mpomegranate.distributions.MultivariateGaussianDistribution.from_summaries\u001b[0;34m()\u001b[0m\n",
      "\u001b[0;32m/usr/local/lib/python3.6/dist-packages/scipy/linalg/decomp_cholesky.py\u001b[0m in \u001b[0;36mcholesky\u001b[0;34m(a, lower, overwrite_a, check_finite)\u001b[0m\n\u001b[1;32m     90\u001b[0m     c, lower = _cholesky(a, lower=lower, overwrite_a=overwrite_a, clean=True,\n\u001b[0;32m---> 91\u001b[0;31m                          check_finite=check_finite)\n\u001b[0m\u001b[1;32m     92\u001b[0m     \u001b[0;32mreturn\u001b[0m \u001b[0mc\u001b[0m\u001b[0;34m\u001b[0m\u001b[0m\n",
      "\u001b[0;32m/usr/local/lib/python3.6/dist-packages/scipy/linalg/decomp_cholesky.py\u001b[0m in \u001b[0;36m_cholesky\u001b[0;34m(a, lower, overwrite_a, clean, check_finite)\u001b[0m\n\u001b[1;32m     39\u001b[0m         raise LinAlgError(\"%d-th leading minor of the array is not positive \"\n\u001b[0;32m---> 40\u001b[0;31m                           \"definite\" % info)\n\u001b[0m\u001b[1;32m     41\u001b[0m     \u001b[0;32mif\u001b[0m \u001b[0minfo\u001b[0m \u001b[0;34m<\u001b[0m \u001b[0;36m0\u001b[0m\u001b[0;34m:\u001b[0m\u001b[0;34m\u001b[0m\u001b[0m\n",
      "\u001b[0;31mLinAlgError\u001b[0m: 1-th leading minor of the array is not positive definite",
      "\nDuring handling of the above exception, another exception occurred:\n",
      "\u001b[0;31mLinAlgError\u001b[0m                               Traceback (most recent call last)",
      "\u001b[0;32m<ipython-input-10-c20c80648499>\u001b[0m in \u001b[0;36m<module>\u001b[0;34m()\u001b[0m\n\u001b[0;32m----> 1\u001b[0;31m \u001b[0mmodel\u001b[0m \u001b[0;34m=\u001b[0m \u001b[0mpom\u001b[0m\u001b[0;34m.\u001b[0m\u001b[0mGeneralMixtureModel\u001b[0m\u001b[0;34m.\u001b[0m\u001b[0mfrom_samples\u001b[0m\u001b[0;34m(\u001b[0m\u001b[0;34m[\u001b[0m\u001b[0mpom\u001b[0m\u001b[0;34m.\u001b[0m\u001b[0mMultivariateGaussianDistribution\u001b[0m\u001b[0;34m,\u001b[0m \u001b[0mpom\u001b[0m\u001b[0;34m.\u001b[0m\u001b[0mNormalDistribution\u001b[0m\u001b[0;34m]\u001b[0m\u001b[0;34m,\u001b[0m \u001b[0;36m3\u001b[0m\u001b[0;34m,\u001b[0m \u001b[0mX\u001b[0m\u001b[0;34m)\u001b[0m\u001b[0;34m\u001b[0m\u001b[0m\n\u001b[0m",
      "\u001b[0;32m/usr/local/lib/python3.6/dist-packages/pomegranate-0.10.0-py3.6-linux-x86_64.egg/pomegranate/gmm.pyx\u001b[0m in \u001b[0;36mpomegranate.gmm.GeneralMixtureModel.from_samples\u001b[0;34m()\u001b[0m\n",
      "\u001b[0;32mpomegranate/distributions.pyx\u001b[0m in \u001b[0;36mpomegranate.distributions.MultivariateGaussianDistribution.from_samples\u001b[0;34m()\u001b[0m\n",
      "\u001b[0;32mpomegranate/distributions.pyx\u001b[0m in \u001b[0;36mpomegranate.distributions.Distribution.fit\u001b[0;34m()\u001b[0m\n",
      "\u001b[0;32mpomegranate/distributions.pyx\u001b[0m in \u001b[0;36mpomegranate.distributions.MultivariateGaussianDistribution.from_summaries\u001b[0;34m()\u001b[0m\n",
      "\u001b[0;32m/usr/local/lib/python3.6/dist-packages/scipy/linalg/decomp_cholesky.py\u001b[0m in \u001b[0;36mcholesky\u001b[0;34m(a, lower, overwrite_a, check_finite)\u001b[0m\n\u001b[1;32m     89\u001b[0m     \"\"\"\n\u001b[1;32m     90\u001b[0m     c, lower = _cholesky(a, lower=lower, overwrite_a=overwrite_a, clean=True,\n\u001b[0;32m---> 91\u001b[0;31m                          check_finite=check_finite)\n\u001b[0m\u001b[1;32m     92\u001b[0m     \u001b[0;32mreturn\u001b[0m \u001b[0mc\u001b[0m\u001b[0;34m\u001b[0m\u001b[0m\n\u001b[1;32m     93\u001b[0m \u001b[0;34m\u001b[0m\u001b[0m\n",
      "\u001b[0;32m/usr/local/lib/python3.6/dist-packages/scipy/linalg/decomp_cholesky.py\u001b[0m in \u001b[0;36m_cholesky\u001b[0;34m(a, lower, overwrite_a, clean, check_finite)\u001b[0m\n\u001b[1;32m     38\u001b[0m     \u001b[0;32mif\u001b[0m \u001b[0minfo\u001b[0m \u001b[0;34m>\u001b[0m \u001b[0;36m0\u001b[0m\u001b[0;34m:\u001b[0m\u001b[0;34m\u001b[0m\u001b[0m\n\u001b[1;32m     39\u001b[0m         raise LinAlgError(\"%d-th leading minor of the array is not positive \"\n\u001b[0;32m---> 40\u001b[0;31m                           \"definite\" % info)\n\u001b[0m\u001b[1;32m     41\u001b[0m     \u001b[0;32mif\u001b[0m \u001b[0minfo\u001b[0m \u001b[0;34m<\u001b[0m \u001b[0;36m0\u001b[0m\u001b[0;34m:\u001b[0m\u001b[0;34m\u001b[0m\u001b[0m\n\u001b[1;32m     42\u001b[0m         raise ValueError('LAPACK reported an illegal value in {}-th argument'\n",
      "\u001b[0;31mLinAlgError\u001b[0m: 1-th leading minor of the array is not positive definite"
     ]
    }
   ],
   "source": [
    "model = pom.GeneralMixtureModel.from_samples([pom.MultivariateGaussianDistribution, pom.NormalDistribution], 3, X)"
   ]
  },
  {
   "cell_type": "code",
   "execution_count": 8,
   "metadata": {},
   "outputs": [
    {
     "data": {
      "text/plain": [
       "array([[  243.164,   245.968,   249.585,   259.745,   265.742,   272.567,\n",
       "          279.196,   280.366,   275.034,   271.351,   272.889,   270.627,\n",
       "          280.828,   290.383,   308.153,   319.945,   336.   ,   344.09 ,\n",
       "          351.385,   356.178,   359.82 ,   361.03 ,   367.701,   380.812,\n",
       "          387.98 ,   391.749,   391.171,   385.97 ,   385.345,   386.121,\n",
       "          390.996,   399.734,   413.073,   421.532,   430.221,   437.092,\n",
       "          439.746,   446.01 ,   451.191,   460.463,   469.779,   472.025,\n",
       "          479.49 ,   474.864,   467.54 ,   471.978,   485.841,   499.555,\n",
       "          510.33 ,   522.653,   525.034,   528.6  ,   542.648,   541.08 ,\n",
       "          545.604,   540.197,   545.018,   555.545,   567.664,   580.612,\n",
       "          594.013,   600.366,   609.027,   612.28 ,   621.672,   629.752,\n",
       "          644.444,   653.938,   669.822,   678.674,   692.031,   697.319,\n",
       "          717.79 ,   730.191,   749.323,   771.857,   795.734,   804.981,\n",
       "          819.638,   833.302,   844.17 ,   848.983,   865.233,   881.439,\n",
       "          909.387,   934.344,   950.825,   968.03 ,   993.337,  1009.02 ,\n",
       "         1029.956,  1038.147,  1051.2  ,  1067.375,  1086.059,  1088.608,\n",
       "         1135.156,  1156.271,  1177.675,  1190.297,  1230.609,  1266.369,\n",
       "         1290.566,  1328.904,  1377.49 ,  1413.887,  1433.838,  1476.289,\n",
       "         1491.209,  1530.056,  1560.026,  1599.679,  1616.116,  1651.853,\n",
       "         1709.82 ,  1761.831,  1820.487,  1852.332,  1886.558,  1934.273,\n",
       "         1988.648,  2055.909,  2118.473,  2164.27 ,  2202.76 ,  2331.633,\n",
       "         2395.053,  2476.949,  2526.61 ,  2591.247,  2667.565,  2723.883,\n",
       "         2789.842,  2797.352,  2856.483,  2985.557,  3124.206,  3162.532,\n",
       "         3260.609,  3280.818,  3274.302,  3331.972,  3366.322,  3402.561,\n",
       "         3473.413,  3578.848,  3689.179,  3794.706,  3908.054,  4009.601,\n",
       "         4084.25 ,  4148.551,  4230.168,  4294.887,  4386.773,  4444.094,\n",
       "         4507.894,  4545.34 ,  4607.669,  4657.627,  4722.156,  4806.16 ,\n",
       "         4884.555,  5007.994,  5073.372,  5190.036,  5282.835,  5399.509,\n",
       "         5511.253,  5612.463,  5695.365,  5747.237,  5872.701,  5960.028,\n",
       "         6015.116,  6004.733,  6035.178,  6126.862,  6205.937,  6264.54 ,\n",
       "         6363.102,  6470.763,  6566.641,  6680.803,  6729.459,  6808.939,\n",
       "         6882.098,  7013.738,  7115.652,  7246.931,  7331.075,  7455.288,\n",
       "         7522.289,  7580.997,  7683.125,  7772.586,  7868.468,  8032.84 ,\n",
       "         8131.408,  8259.771,  8362.655,  8518.825,  8662.823,  8765.907,\n",
       "         8866.48 ,  8969.699,  9121.097,  9293.991,  9417.264,  9524.152,\n",
       "         9681.856,  9899.378, 10002.857, 10247.679, 10319.825, 10439.025,\n",
       "        10472.879, 10597.822, 10596.294, 10660.294, 10788.952, 10893.207,\n",
       "        10992.051, 11071.463, 11183.507, 11312.875, 11567.326, 11769.275,\n",
       "        11920.169, 12108.987, 12303.34 , 12522.425, 12761.337, 12910.022,\n",
       "        13142.873, 13332.316, 13603.933, 13749.806, 13867.469, 14037.228,\n",
       "        14208.569, 14382.363, 14535.003, 14681.501, 14651.039, 14805.611,\n",
       "        14835.187, 14559.543, 14394.547, 14352.85 , 14420.312, 14628.021,\n",
       "        14721.35 , 14926.098, 15079.917, 15240.843, 15285.828, 15496.189,\n",
       "        15591.85 , 15796.46 , 16019.758, 16152.257, 16257.151, 16358.863,\n",
       "        16569.591, 16637.926, 16848.748, 17083.137, 17102.932, 17425.766,\n",
       "        17719.836, 17838.454, 17970.422, 18221.299, 18331.093, 18354.372,\n",
       "        18409.13 , 18640.732, 18799.648, 18979.245, 19162.55 , 19359.123,\n",
       "        19588.074, 19831.829, 20041.047, 20411.924],\n",
       "       [  243.164,   245.968,   249.585,   259.745,   265.742,   272.567,\n",
       "          279.196,   280.366,   275.034,   271.351,   272.889,   270.627,\n",
       "          280.828,   290.383,   308.153,   319.945,   336.   ,   344.09 ,\n",
       "          351.385,   356.178,   359.82 ,   361.03 ,   367.701,   380.812,\n",
       "          387.98 ,   391.749,   391.171,   385.97 ,   385.345,   386.121,\n",
       "          390.996,   399.734,   413.073,   421.532,   430.221,   437.092,\n",
       "          439.746,   446.01 ,   451.191,   460.463,   469.779,   472.025,\n",
       "          479.49 ,   474.864,   467.54 ,   471.978,   485.841,   499.555,\n",
       "          510.33 ,   522.653,   525.034,   528.6  ,   542.648,   541.08 ,\n",
       "          545.604,   540.197,   545.018,   555.545,   567.664,   580.612,\n",
       "          594.013,   600.366,   609.027,   612.28 ,   621.672,   629.752,\n",
       "          644.444,   653.938,   669.822,   678.674,   692.031,   697.319,\n",
       "          717.79 ,   730.191,   749.323,   771.857,   795.734,   804.981,\n",
       "          819.638,   833.302,   844.17 ,   848.983,   865.233,   881.439,\n",
       "          909.387,   934.344,   950.825,   968.03 ,   993.337,  1009.02 ,\n",
       "         1029.956,  1038.147,  1051.2  ,  1067.375,  1086.059,  1088.608,\n",
       "         1135.156,  1156.271,  1177.675,  1190.297,  1230.609,  1266.369,\n",
       "         1290.566,  1328.904,  1377.49 ,  1413.887,  1433.838,  1476.289,\n",
       "         1491.209,  1530.056,  1560.026,  1599.679,  1616.116,  1651.853,\n",
       "         1709.82 ,  1761.831,  1820.487,  1852.332,  1886.558,  1934.273,\n",
       "         1988.648,  2055.909,  2118.473,  2164.27 ,  2202.76 ,  2331.633,\n",
       "         2395.053,  2476.949,  2526.61 ,  2591.247,  2667.565,  2723.883,\n",
       "         2789.842,  2797.352,  2856.483,  2985.557,  3124.206,  3162.532,\n",
       "         3260.609,  3280.818,  3274.302,  3331.972,  3366.322,  3402.561,\n",
       "         3473.413,  3578.848,  3689.179,  3794.706,  3908.054,  4009.601,\n",
       "         4084.25 ,  4148.551,  4230.168,  4294.887,  4386.773,  4444.094,\n",
       "         4507.894,  4545.34 ,  4607.669,  4657.627,  4722.156,  4806.16 ,\n",
       "         4884.555,  5007.994,  5073.372,  5190.036,  5282.835,  5399.509,\n",
       "         5511.253,  5612.463,  5695.365,  5747.237,  5872.701,  5960.028,\n",
       "         6015.116,  6004.733,  6035.178,  6126.862,  6205.937,  6264.54 ,\n",
       "         6363.102,  6470.763,  6566.641,  6680.803,  6729.459,  6808.939,\n",
       "         6882.098,  7013.738,  7115.652,  7246.931,  7331.075,  7455.288,\n",
       "         7522.289,  7580.997,  7683.125,  7772.586,  7868.468,  8032.84 ,\n",
       "         8131.408,  8259.771,  8362.655,  8518.825,  8662.823,  8765.907,\n",
       "         8866.48 ,  8969.699,  9121.097,  9293.991,  9417.264,  9524.152,\n",
       "         9681.856,  9899.378, 10002.857, 10247.679, 10319.825, 10439.025,\n",
       "        10472.879, 10597.822, 10596.294, 10660.294, 10788.952, 10893.207,\n",
       "        10992.051, 11071.463, 11183.507, 11312.875, 11567.326, 11769.275,\n",
       "        11920.169, 12108.987, 12303.34 , 12522.425, 12761.337, 12910.022,\n",
       "        13142.873, 13332.316, 13603.933, 13749.806, 13867.469, 14037.228,\n",
       "        14208.569, 14382.363, 14535.003, 14681.501, 14651.039, 14805.611,\n",
       "        14835.187, 14559.543, 14394.547, 14352.85 , 14420.312, 14628.021,\n",
       "        14721.35 , 14926.098, 15079.917, 15240.843, 15285.828, 15496.189,\n",
       "        15591.85 , 15796.46 , 16019.758, 16152.257, 16257.151, 16358.863,\n",
       "        16569.591, 16637.926, 16848.748, 17083.137, 17102.932, 17425.766,\n",
       "        17719.836, 17838.454, 17970.422, 18221.299, 18331.093, 18354.372,\n",
       "        18409.13 , 18640.732, 18799.648, 18979.245, 19162.55 , 19359.123,\n",
       "        19588.074, 19831.829, 20041.047, 20411.924]])"
      ]
     },
     "execution_count": 8,
     "metadata": {},
     "output_type": "execute_result"
    }
   ],
   "source": [
    "X"
   ]
  },
  {
   "cell_type": "code",
   "execution_count": null,
   "metadata": {},
   "outputs": [],
   "source": []
  }
 ],
 "metadata": {
  "kernelspec": {
   "display_name": "Python 3",
   "language": "python",
   "name": "python3"
  },
  "language_info": {
   "codemirror_mode": {
    "name": "ipython",
    "version": 3
   },
   "file_extension": ".py",
   "mimetype": "text/x-python",
   "name": "python",
   "nbconvert_exporter": "python",
   "pygments_lexer": "ipython3",
   "version": "3.6.5"
  }
 },
 "nbformat": 4,
 "nbformat_minor": 2
}
